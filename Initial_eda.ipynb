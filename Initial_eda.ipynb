{
 "cells": [
  {
   "cell_type": "code",
   "execution_count": 2,
   "id": "558fb699",
   "metadata": {},
   "outputs": [],
   "source": [
    "import pandas as pd\n",
    "import numpy as np\n",
    "import seaborn as sns\n",
    "import matplotlib.pyplot as plt\n",
    "import warnings\n",
    "warnings.filterwarnings('ignore')"
   ]
  },
  {
   "cell_type": "code",
   "execution_count": 3,
   "id": "81a3345c",
   "metadata": {},
   "outputs": [],
   "source": [
    "df = pd.read_csv('train/train.csv')"
   ]
  },
  {
   "cell_type": "code",
   "execution_count": 4,
   "id": "5991d250",
   "metadata": {},
   "outputs": [
    {
     "data": {
      "text/plain": [
       "(404290, 6)"
      ]
     },
     "execution_count": 4,
     "metadata": {},
     "output_type": "execute_result"
    }
   ],
   "source": [
    "df.shape"
   ]
  },
  {
   "cell_type": "code",
   "execution_count": 5,
   "id": "2747c530",
   "metadata": {},
   "outputs": [
    {
     "data": {
      "text/html": [
       "<div>\n",
       "<style scoped>\n",
       "    .dataframe tbody tr th:only-of-type {\n",
       "        vertical-align: middle;\n",
       "    }\n",
       "\n",
       "    .dataframe tbody tr th {\n",
       "        vertical-align: top;\n",
       "    }\n",
       "\n",
       "    .dataframe thead th {\n",
       "        text-align: right;\n",
       "    }\n",
       "</style>\n",
       "<table border=\"1\" class=\"dataframe\">\n",
       "  <thead>\n",
       "    <tr style=\"text-align: right;\">\n",
       "      <th></th>\n",
       "      <th>id</th>\n",
       "      <th>qid1</th>\n",
       "      <th>qid2</th>\n",
       "      <th>question1</th>\n",
       "      <th>question2</th>\n",
       "      <th>is_duplicate</th>\n",
       "    </tr>\n",
       "  </thead>\n",
       "  <tbody>\n",
       "    <tr>\n",
       "      <th>136782</th>\n",
       "      <td>136782</td>\n",
       "      <td>218158</td>\n",
       "      <td>218159</td>\n",
       "      <td>How can I get Job in Australia as metallurgist...</td>\n",
       "      <td>Is rbi assistant experience relevant for cfa?</td>\n",
       "      <td>0</td>\n",
       "    </tr>\n",
       "    <tr>\n",
       "      <th>33768</th>\n",
       "      <td>33768</td>\n",
       "      <td>61978</td>\n",
       "      <td>27545</td>\n",
       "      <td>What is the best way of improving english voca...</td>\n",
       "      <td>What is the best way to learn vocabulary?</td>\n",
       "      <td>1</td>\n",
       "    </tr>\n",
       "    <tr>\n",
       "      <th>160607</th>\n",
       "      <td>160607</td>\n",
       "      <td>250430</td>\n",
       "      <td>250431</td>\n",
       "      <td>Why is Islam, as a major religion, being discr...</td>\n",
       "      <td>Why is Islam perpetually said to be in danger?...</td>\n",
       "      <td>0</td>\n",
       "    </tr>\n",
       "    <tr>\n",
       "      <th>152751</th>\n",
       "      <td>152751</td>\n",
       "      <td>10043</td>\n",
       "      <td>36474</td>\n",
       "      <td>Does green tea really help in losing weight?</td>\n",
       "      <td>How is Lipton Green Tea related to weight loss?</td>\n",
       "      <td>1</td>\n",
       "    </tr>\n",
       "    <tr>\n",
       "      <th>58685</th>\n",
       "      <td>58685</td>\n",
       "      <td>102909</td>\n",
       "      <td>55372</td>\n",
       "      <td>What is the funniest movie you've ever seen?</td>\n",
       "      <td>What's the funniest movie you have ever seen?</td>\n",
       "      <td>1</td>\n",
       "    </tr>\n",
       "    <tr>\n",
       "      <th>188910</th>\n",
       "      <td>188910</td>\n",
       "      <td>287557</td>\n",
       "      <td>287558</td>\n",
       "      <td>In the event of a cataclysm wha is the minimum...</td>\n",
       "      <td>What is the minimum number of people required ...</td>\n",
       "      <td>0</td>\n",
       "    </tr>\n",
       "    <tr>\n",
       "      <th>361368</th>\n",
       "      <td>361368</td>\n",
       "      <td>121493</td>\n",
       "      <td>190827</td>\n",
       "      <td>Which is the best country to live in the world?</td>\n",
       "      <td>What are some of the best countries to visit a...</td>\n",
       "      <td>1</td>\n",
       "    </tr>\n",
       "    <tr>\n",
       "      <th>114434</th>\n",
       "      <td>114434</td>\n",
       "      <td>186796</td>\n",
       "      <td>186797</td>\n",
       "      <td>Are you excited to go to work every day? What ...</td>\n",
       "      <td>How can I make Monday the most exciting day to...</td>\n",
       "      <td>0</td>\n",
       "    </tr>\n",
       "    <tr>\n",
       "      <th>166468</th>\n",
       "      <td>166468</td>\n",
       "      <td>37775</td>\n",
       "      <td>221002</td>\n",
       "      <td>What are the big, mega dance clubs in Greece?</td>\n",
       "      <td>What are the big, mega dance clubs in Singapore?</td>\n",
       "      <td>0</td>\n",
       "    </tr>\n",
       "    <tr>\n",
       "      <th>255548</th>\n",
       "      <td>255548</td>\n",
       "      <td>370464</td>\n",
       "      <td>157142</td>\n",
       "      <td>How do I deduce a number's square root without...</td>\n",
       "      <td>What is the method to calculate a square root ...</td>\n",
       "      <td>1</td>\n",
       "    </tr>\n",
       "  </tbody>\n",
       "</table>\n",
       "</div>"
      ],
      "text/plain": [
       "            id    qid1    qid2  \\\n",
       "136782  136782  218158  218159   \n",
       "33768    33768   61978   27545   \n",
       "160607  160607  250430  250431   \n",
       "152751  152751   10043   36474   \n",
       "58685    58685  102909   55372   \n",
       "188910  188910  287557  287558   \n",
       "361368  361368  121493  190827   \n",
       "114434  114434  186796  186797   \n",
       "166468  166468   37775  221002   \n",
       "255548  255548  370464  157142   \n",
       "\n",
       "                                                question1  \\\n",
       "136782  How can I get Job in Australia as metallurgist...   \n",
       "33768   What is the best way of improving english voca...   \n",
       "160607  Why is Islam, as a major religion, being discr...   \n",
       "152751       Does green tea really help in losing weight?   \n",
       "58685        What is the funniest movie you've ever seen?   \n",
       "188910  In the event of a cataclysm wha is the minimum...   \n",
       "361368    Which is the best country to live in the world?   \n",
       "114434  Are you excited to go to work every day? What ...   \n",
       "166468      What are the big, mega dance clubs in Greece?   \n",
       "255548  How do I deduce a number's square root without...   \n",
       "\n",
       "                                                question2  is_duplicate  \n",
       "136782      Is rbi assistant experience relevant for cfa?             0  \n",
       "33768           What is the best way to learn vocabulary?             1  \n",
       "160607  Why is Islam perpetually said to be in danger?...             0  \n",
       "152751    How is Lipton Green Tea related to weight loss?             1  \n",
       "58685       What's the funniest movie you have ever seen?             1  \n",
       "188910  What is the minimum number of people required ...             0  \n",
       "361368  What are some of the best countries to visit a...             1  \n",
       "114434  How can I make Monday the most exciting day to...             0  \n",
       "166468   What are the big, mega dance clubs in Singapore?             0  \n",
       "255548  What is the method to calculate a square root ...             1  "
      ]
     },
     "execution_count": 5,
     "metadata": {},
     "output_type": "execute_result"
    }
   ],
   "source": [
    "df.sample(10)"
   ]
  },
  {
   "cell_type": "code",
   "execution_count": 6,
   "id": "4b2df0a2",
   "metadata": {},
   "outputs": [
    {
     "name": "stdout",
     "output_type": "stream",
     "text": [
      "<class 'pandas.core.frame.DataFrame'>\n",
      "RangeIndex: 404290 entries, 0 to 404289\n",
      "Data columns (total 6 columns):\n",
      " #   Column        Non-Null Count   Dtype \n",
      "---  ------        --------------   ----- \n",
      " 0   id            404290 non-null  int64 \n",
      " 1   qid1          404290 non-null  int64 \n",
      " 2   qid2          404290 non-null  int64 \n",
      " 3   question1     404289 non-null  object\n",
      " 4   question2     404288 non-null  object\n",
      " 5   is_duplicate  404290 non-null  int64 \n",
      "dtypes: int64(4), object(2)\n",
      "memory usage: 18.5+ MB\n"
     ]
    }
   ],
   "source": [
    "df.info()"
   ]
  },
  {
   "cell_type": "code",
   "execution_count": 7,
   "id": "37c4083a",
   "metadata": {},
   "outputs": [
    {
     "data": {
      "text/plain": [
       "id              0\n",
       "qid1            0\n",
       "qid2            0\n",
       "question1       1\n",
       "question2       2\n",
       "is_duplicate    0\n",
       "dtype: int64"
      ]
     },
     "execution_count": 7,
     "metadata": {},
     "output_type": "execute_result"
    }
   ],
   "source": [
    "# null values in columns\n",
    "df.isnull().sum()"
   ]
  },
  {
   "cell_type": "code",
   "execution_count": 8,
   "id": "b96ed161",
   "metadata": {},
   "outputs": [
    {
     "data": {
      "text/plain": [
       "0"
      ]
     },
     "execution_count": 8,
     "metadata": {},
     "output_type": "execute_result"
    }
   ],
   "source": [
    "# duplicate rows\n",
    "df.duplicated().sum()"
   ]
  },
  {
   "cell_type": "code",
   "execution_count": 11,
   "id": "4d262340",
   "metadata": {
    "scrolled": true
   },
   "outputs": [
    {
     "name": "stdout",
     "output_type": "stream",
     "text": [
      "0    255027\n",
      "1    149263\n",
      "Name: is_duplicate, dtype: int64\n",
      "0    63.080215\n",
      "1    36.919785\n",
      "Name: is_duplicate, dtype: float64\n"
     ]
    },
    {
     "data": {
      "text/plain": [
       "<AxesSubplot: xlabel='is_duplicate', ylabel='count'>"
      ]
     },
     "execution_count": 11,
     "metadata": {},
     "output_type": "execute_result"
    },
    {
     "data": {
      "image/png": "[encoded data removed]",
      "text/plain": [
       "<Figure size 640x480 with 1 Axes>"
      ]
     },
     "metadata": {},
     "output_type": "display_data"
    }
   ],
   "source": [
    "# Distribution of duplicate and non-duplicate questions\n",
    "\n",
    "print(df['is_duplicate'].value_counts())\n",
    "print((df['is_duplicate'].value_counts()/df['is_duplicate'].count()) * 100)\n",
    "\n",
    "sns.countplot(x=df['is_duplicate'])"
   ]
  },
  {
   "cell_type": "code",
   "execution_count": 14,
   "id": "76f0000c",
   "metadata": {},
   "outputs": [
    {
     "name": "stdout",
     "output_type": "stream",
     "text": [
      "Number of unique questions 537933\n",
      "Number of questions getting repeated 111780\n"
     ]
    }
   ],
   "source": [
    "# Repeated questions\n",
    "\n",
    "qid = pd.Series(df['qid1'].tolist() + df['qid2'].tolist())\n",
    "print('Number of unique questions', np.unique(qid).shape[0])\n",
    "\n",
    "repeat = qid.value_counts() > 1\n",
    "print('Number of questions getting repeated', repeat[repeat].shape[0])"
   ]
  },
  {
   "cell_type": "code",
   "execution_count": 18,
   "id": "1e622fba",
   "metadata": {},
   "outputs": [
    {
     "data": {
      "image/png": "[encoded data removed]",
      "text/plain": [
       "<Figure size 500x500 with 1 Axes>"
      ]
     },
     "metadata": {},
     "output_type": "display_data"
    }
   ],
   "source": [
    "# Repeated questions histogram\n",
    "\n",
    "sns.displot(qid.value_counts().values, bins=160)\n",
    "plt.yscale('log')\n",
    "plt.show()"
   ]
  },
  {
   "cell_type": "code",
   "execution_count": null,
   "id": "cbfca5eb",
   "metadata": {},
   "outputs": [],
   "source": []
  }
 ],
 "metadata": {
  "kernelspec": {
   "display_name": "bobbykernal",
   "language": "python",
   "name": "bobbykernal"
  },
  "language_info": {
   "codemirror_mode": {
    "name": "ipython",
    "version": 3
   },
   "file_extension": ".py",
   "mimetype": "text/x-python",
   "name": "python",
   "nbconvert_exporter": "python",
   "pygments_lexer": "ipython3",
   "version": "3.10.6"
  }
 },
 "nbformat": 4,
 "nbformat_minor": 5
}
